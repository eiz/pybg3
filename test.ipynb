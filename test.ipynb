{
 "cells": [
  {
   "cell_type": "code",
   "execution_count": 1,
   "metadata": {},
   "outputs": [],
   "source": [
    "import os\n",
    "import pprint\n",
    "import re\n",
    "import time\n",
    "from pathlib import Path\n",
    "from pxr import Usd, UsdGeom\n",
    "from pybg3 import pak, lsf, _pybg3"
   ]
  },
  {
   "cell_type": "code",
   "execution_count": 2,
   "metadata": {},
   "outputs": [],
   "source": [
    "def checktime(msg, cb):\n",
    "    t_start = time.time()\n",
    "    rv = cb()\n",
    "    t_end = time.time()\n",
    "    print(f\"{msg}: {t_end - t_start}\")\n",
    "    return rv"
   ]
  },
  {
   "cell_type": "code",
   "execution_count": 3,
   "metadata": {},
   "outputs": [
    {
     "name": "stdout",
     "output_type": "stream",
     "text": [
      "Gustav.pak: 0.0642390251159668\n",
      "Shared.pak: 0.006141185760498047\n",
      "Engine.pak: 0.00032591819763183594\n",
      "Models.pak: 0.06398892402648926\n"
     ]
    }
   ],
   "source": [
    "BG3_ROOT = Path(os.environ.get(\"BG3_DATA\", os.path.expanduser(\"~/l/bg3/Data\")))\n",
    "GUSTAV = checktime(\"Gustav.pak\", lambda: pak.PakFile(BG3_ROOT / \"Gustav.pak\"))\n",
    "SHARED = checktime(\"Shared.pak\", lambda: pak.PakFile(BG3_ROOT / \"Shared.pak\"))\n",
    "ENGINE = checktime(\"Engine.pak\", lambda: pak.PakFile(BG3_ROOT / \"Engine.pak\"))\n",
    "MODELS = checktime(\"Models.pak\", lambda: pak.PakFile(BG3_ROOT / \"Models.pak\"))"
   ]
  },
  {
   "cell_type": "code",
   "execution_count": 4,
   "metadata": {},
   "outputs": [],
   "source": [
    "data = GUSTAV.file_data(\"Generated/Public/GustavDev/Assets/HLOD/BGH_SteelWatchFoundry_B/HLOD_1_0_0_1.GR2\")\n",
    "granny = _pybg3._GrannyReader.from_data(data)"
   ]
  },
  {
   "cell_type": "code",
   "execution_count": 5,
   "metadata": {},
   "outputs": [
    {
     "name": "stdout",
     "output_type": "stream",
     "text": [
      "Animations: <pybg3._pybg3._GrannyPtrSpan object at 0x10bd45bb0>\n",
      "ArtToolInfo: <pybg3._pybg3._GrannyPtr object at 0x10bd45bb0>\n",
      "ExporterInfo: <pybg3._pybg3._GrannyPtr object at 0x10bd45bb0>\n",
      "ExtendedData: <pybg3._pybg3._GrannyPtr object at 0x10bd45bb0>\n",
      "FromFileName: D:\\Jenkins\\workspace\\Repo\\FB\\Main_BuildServer_HLOD\\FW4\\Stable\\LSProjects\\Apps\\Gustav\\Data\\Generated\\Public\\GustavDev\\Assets\\HLOD\\BGH_SteelWatchFoundry_B\\HLOD_1_0_0_1.fbx\n",
      "Materials: <pybg3._pybg3._GrannyPtrSpan object at 0x10bd45bb0>\n",
      "Meshes: <pybg3._pybg3._GrannyPtrSpan object at 0x10bd45bb0>\n",
      "Models: <pybg3._pybg3._GrannyPtrSpan object at 0x10bd45bb0>\n",
      "Skeletons: <pybg3._pybg3._GrannyPtrSpan object at 0x10bd45bb0>\n",
      "Textures: <pybg3._pybg3._GrannyPtrSpan object at 0x10bd45bb0>\n",
      "TrackGroups: <pybg3._pybg3._GrannyPtrSpan object at 0x10bd45bb0>\n",
      "TriTopologies: <pybg3._pybg3._GrannyPtrSpan object at 0x10bd45bb0>\n",
      "VertexDatas: <pybg3._pybg3._GrannyPtrSpan object at 0x10bd45bb0>\n",
      "['ArtToolMajorRevision', 'ArtToolMinorRevision', 'ArtToolPointerSize', 'BackVector', 'ExtendedData', 'FromArtToolName', 'Origin', 'RightVector', 'UnitsPerMeter', 'UpVector']\n",
      "64\n",
      "[0.0, 1.0, 0.0]\n"
     ]
    }
   ],
   "source": [
    "root = granny.root\n",
    "for name in dir(root):\n",
    "  print(f\"{name}: {root.__getattr__(name)}\")\n",
    "print(dir(root.ArtToolInfo))\n",
    "print(root.ArtToolInfo.ArtToolPointerSize)\n",
    "print(root.ArtToolInfo.UpVector)"
   ]
  },
  {
   "cell_type": "code",
   "execution_count": 9,
   "metadata": {},
   "outputs": [
    {
     "name": "stdout",
     "output_type": "stream",
     "text": [
      "GustavDev_BGH_SteelWatchFoundry_B_HLOD_1_0_0_1_6\n",
      "<pybg3._pybg3._GrannyDirectSpan object at 0x109c6da70>\n",
      "<pybg3._pybg3._GrannyDirectSpan object at 0x109c6da70>: 61136 vertices\n",
      "vertex: [-22.55571937561035, 2.0088400840759277, -20.17885398864746]\n",
      "['VertexAnnotationSets', 'VertexComponentNames', 'Vertices']\n",
      "GustavDev_BGH_SteelWatchFoundry_B_HLOD_1_0_0_1_5\n",
      "<pybg3._pybg3._GrannyDirectSpan object at 0x109c6cbb0>\n",
      "<pybg3._pybg3._GrannyDirectSpan object at 0x109c6cbb0>: 65534 vertices\n",
      "vertex: [-9.19817066192627, 5.485538959503174, -13.616674423217773]\n",
      "['VertexAnnotationSets', 'VertexComponentNames', 'Vertices']\n",
      "GustavDev_BGH_SteelWatchFoundry_B_HLOD_1_0_0_1_4\n",
      "<pybg3._pybg3._GrannyDirectSpan object at 0x10bcc5cf0>\n",
      "<pybg3._pybg3._GrannyDirectSpan object at 0x109b29fb0>: 65535 vertices\n",
      "vertex: [-4.605759620666504, -20.85150909423828, 31.242923736572266]\n",
      "['VertexAnnotationSets', 'VertexComponentNames', 'Vertices']\n",
      "GustavDev_BGH_SteelWatchFoundry_B_HLOD_1_0_0_1_3\n",
      "<pybg3._pybg3._GrannyDirectSpan object at 0x109c6ca30>\n",
      "<pybg3._pybg3._GrannyDirectSpan object at 0x109c6ca30>: 65534 vertices\n",
      "vertex: [8.007426261901855, -1.7133474349975586, 27.141334533691406]\n",
      "['VertexAnnotationSets', 'VertexComponentNames', 'Vertices']\n",
      "GustavDev_BGH_SteelWatchFoundry_B_HLOD_1_0_0_1_2\n",
      "<pybg3._pybg3._GrannyDirectSpan object at 0x10bcc5cf0>\n",
      "<pybg3._pybg3._GrannyDirectSpan object at 0x109b29fb0>: 65532 vertices\n",
      "vertex: [-26.580509185791016, -4.314791202545166, -25.122352600097656]\n",
      "['VertexAnnotationSets', 'VertexComponentNames', 'Vertices']\n",
      "GustavDev_BGH_SteelWatchFoundry_B_HLOD_1_0_0_1_1\n",
      "<pybg3._pybg3._GrannyDirectSpan object at 0x109c6cbb0>\n",
      "<pybg3._pybg3._GrannyDirectSpan object at 0x109c6cbb0>: 65518 vertices\n",
      "vertex: [-10.476115226745605, 2.1620123386383057, 13.150198936462402]\n",
      "['VertexAnnotationSets', 'VertexComponentNames', 'Vertices']\n",
      "GustavDev_BGH_SteelWatchFoundry_B_HLOD_1_0_0_1_0\n",
      "<pybg3._pybg3._GrannyDirectSpan object at 0x10bcc5cf0>\n",
      "<pybg3._pybg3._GrannyDirectSpan object at 0x109b29fb0>: 65535 vertices\n",
      "vertex: [-23.701828002929688, -3.347101926803589, -23.10335350036621]\n",
      "['VertexAnnotationSets', 'VertexComponentNames', 'Vertices']\n",
      "GustavDev_BGH_SteelWatchFoundry_B_HLOD_1_0_0_1_emissive_0\n",
      "<pybg3._pybg3._GrannyDirectSpan object at 0x109c6ca30>\n",
      "<pybg3._pybg3._GrannyDirectSpan object at 0x109c6ca30>: 13484 vertices\n",
      "vertex: [-26.65679359436035, 2.077150583267212, -15.60094928741455]\n",
      "['VertexAnnotationSets', 'VertexComponentNames', 'Vertices']\n",
      "GustavDev_BGH_SteelWatchFoundry_B_HLOD_1_0_0_1_two_sided_0\n",
      "<pybg3._pybg3._GrannyDirectSpan object at 0x10bcc5cf0>\n",
      "<pybg3._pybg3._GrannyDirectSpan object at 0x109b29fb0>: 50692 vertices\n",
      "vertex: [-24.625045776367188, -2.002854824066162, -23.86590003967285]\n",
      "['VertexAnnotationSets', 'VertexComponentNames', 'Vertices']\n"
     ]
    }
   ],
   "source": [
    "for mesh in root.Meshes:\n",
    "  print(mesh.Name)\n",
    "  vd = mesh.PrimaryVertexData\n",
    "  print(vd.VertexComponentNames)\n",
    "  print(f\"{vd.Vertices}: {len(vd.Vertices)} vertices\")\n",
    "  print(f\"vertex: {vd.Vertices[0].Position}\")\n",
    "  print(dir(vd))"
   ]
  },
  {
   "cell_type": "code",
   "execution_count": null,
   "metadata": {},
   "outputs": [],
   "source": []
  }
 ],
 "metadata": {
  "kernelspec": {
   "display_name": ".venv",
   "language": "python",
   "name": "python3"
  },
  "language_info": {
   "codemirror_mode": {
    "name": "ipython",
    "version": 3
   },
   "file_extension": ".py",
   "mimetype": "text/x-python",
   "name": "python",
   "nbconvert_exporter": "python",
   "pygments_lexer": "ipython3",
   "version": "3.11.9"
  }
 },
 "nbformat": 4,
 "nbformat_minor": 2
}
