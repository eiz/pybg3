{
 "cells": [
  {
   "cell_type": "code",
   "execution_count": null,
   "metadata": {},
   "outputs": [],
   "source": [
    "import os\n",
    "import pprint\n",
    "import re\n",
    "import time\n",
    "import numpy as np\n",
    "from numpy.lib import recfunctions as rfn\n",
    "from pathlib import Path\n",
    "from pxr import Usd, UsdGeom, Vt, Gf\n",
    "from pybg3 import pak, lsf, _pybg3"
   ]
  },
  {
   "cell_type": "code",
   "execution_count": null,
   "metadata": {},
   "outputs": [],
   "source": [
    "def checktime(msg, cb):\n",
    "    t_start = time.time()\n",
    "    rv = cb()\n",
    "    t_end = time.time()\n",
    "    print(f\"{msg}: {t_end - t_start}\")\n",
    "    return rv"
   ]
  },
  {
   "cell_type": "code",
   "execution_count": null,
   "metadata": {},
   "outputs": [],
   "source": [
    "BG3_ROOT = Path(os.environ.get(\"BG3_DATA\", os.path.expanduser(\"~/l/bg3/Data\")))\n",
    "GUSTAV = checktime(\"Gustav.pak\", lambda: pak.PakFile(BG3_ROOT / \"Gustav.pak\"))\n",
    "SHARED = checktime(\"Shared.pak\", lambda: pak.PakFile(BG3_ROOT / \"Shared.pak\"))\n",
    "ENGINE = checktime(\"Engine.pak\", lambda: pak.PakFile(BG3_ROOT / \"Engine.pak\"))\n",
    "MODELS = checktime(\"Models.pak\", lambda: pak.PakFile(BG3_ROOT / \"Models.pak\"))\n",
    "VIRTUAL_TEXTURES = checktime(\"VirtualTextures.pak\", lambda: pak.PakFile(BG3_ROOT / \"VirtualTextures.pak\"))"
   ]
  },
  {
   "cell_type": "code",
   "execution_count": null,
   "metadata": {},
   "outputs": [],
   "source": [
    "data = GUSTAV.file_data(\"Generated/Public/GustavDev/Assets/HLOD/BGH_SteelWatchFoundry_B/HLOD_1_0_0_1.GR2\")\n",
    "granny = _pybg3._GrannyReader.from_data(data)"
   ]
  },
  {
   "cell_type": "code",
   "execution_count": null,
   "metadata": {},
   "outputs": [],
   "source": [
    "root = granny.root\n",
    "for name in dir(root):\n",
    "  print(f\"{name}: {root.__getattr__(name)}\")\n",
    "print(dir(root.ArtToolInfo))\n",
    "print(root.ArtToolInfo.ArtToolPointerSize)\n",
    "print(root.ArtToolInfo.UpVector)"
   ]
  },
  {
   "cell_type": "code",
   "execution_count": null,
   "metadata": {},
   "outputs": [],
   "source": [
    "for mesh in root.Meshes:\n",
    "  print(mesh.Name)\n",
    "  vd = mesh.PrimaryVertexData\n",
    "  nda = np.array(vd.Vertices, copy = False)\n",
    "  new_arr = rfn.structured_to_unstructured(nda[[\"f0\", \"f1\", \"f2\"]], copy = False)\n",
    "  print(vd.VertexComponentNames)\n",
    "  print(f\"{vd.Vertices}: {len(vd.Vertices)} vertices\")\n",
    "  print(f\"vertex data: {nda}\")\n",
    "  print(f\"vertex data shape: {nda.shape}\")\n",
    "  print(f\"vertex data dtype: {nda.dtype}\")\n",
    "  print(f\"reshaped vertex data: {new_arr} {new_arr.shape} {new_arr.dtype}\")\n",
    "  print(dir(vd))"
   ]
  },
  {
   "cell_type": "code",
   "execution_count": null,
   "metadata": {},
   "outputs": [],
   "source": [
    "g_mesh = root.Meshes[0]\n",
    "g_vertices = np.array(g_mesh.PrimaryVertexData.Vertices, copy = False)\n",
    "g_indices = np.array(g_mesh.PrimaryTopology.Indices16, copy = False)\n",
    "print(g_mesh.Name)\n",
    "pprint.pp(dir(g_mesh.PrimaryVertexData.Vertices[0]))"
   ]
  },
  {
   "cell_type": "code",
   "execution_count": null,
   "metadata": {},
   "outputs": [],
   "source": [
    "u_stage = Usd.Stage.CreateNew(\"tmp/granny_test.usda\")\n",
    "u_mesh = UsdGeom.Mesh.Define(u_stage, \"/mesh\")"
   ]
  },
  {
   "cell_type": "code",
   "execution_count": null,
   "metadata": {},
   "outputs": [],
   "source": [
    "u_points = u_mesh.CreatePointsAttr()\n",
    "g_positions = rfn.structured_to_unstructured(g_vertices[[\"f0\", \"f1\", \"f2\"]], copy = False)\n",
    "vt_vertices = Vt.Vec3fArray.FromNumpy(g_positions)\n",
    "vt_indices = Vt.IntArray.FromNumpy(g_indices)\n",
    "vt_face_counts = Vt.IntArray.FromNumpy(np.full(g_positions.shape[0], 3, dtype = np.int32))\n",
    "u_points.Set(vt_vertices)\n",
    "u_vertex_face_counts = u_mesh.CreateFaceVertexCountsAttr()\n",
    "u_vertex_face_counts.Set(vt_face_counts)\n",
    "u_vertex_indices = u_mesh.CreateFaceVertexIndicesAttr()\n",
    "u_vertex_indices.Set(vt_indices)"
   ]
  },
  {
   "cell_type": "code",
   "execution_count": null,
   "metadata": {},
   "outputs": [],
   "source": [
    "u_stage.GetRootLayer().Save()"
   ]
  },
  {
   "cell_type": "code",
   "execution_count": null,
   "metadata": {},
   "outputs": [],
   "source": [
    "for mesh in root.Meshes:\n",
    "  print(mesh.Name)"
   ]
  },
  {
   "cell_type": "code",
   "execution_count": null,
   "metadata": {},
   "outputs": [],
   "source": [
    "squirrel = MODELS.file_data(\"Generated/Public/Shared/Assets/Nature/Plants/NAT_Coastal_Plant_Bush_Pine_ABC/Resources/NAT_Coastal_Plant_Bush_Pine_Small_A.GR2\")\n",
    "print(len(squirrel))\n",
    "g_squirrel = _pybg3._GrannyReader.from_data(squirrel)\n",
    "print(dir(g_squirrel.root))\n",
    "for mesh in g_squirrel.root.Meshes:\n",
    "  print(mesh.Name)\n",
    "for model in g_squirrel.root.Models:\n",
    "  print(model.Name)"
   ]
  },
  {
   "cell_type": "code",
   "execution_count": null,
   "metadata": {},
   "outputs": [],
   "source": [
    "Gf.Quatf(0,0,0,1)"
   ]
  },
  {
   "cell_type": "code",
   "execution_count": null,
   "metadata": {},
   "outputs": [],
   "source": [
    "patch_data = GUSTAV.file_data(\"Mods/Gustav/Levels/TUT_Avernus_C/Terrains/2b55a30d-aca1-447f-8f4e-4d9215958607_2_0.patch\")\n",
    "patch = _pybg3._PatchFile.from_data(patch_data)"
   ]
  },
  {
   "cell_type": "code",
   "execution_count": null,
   "metadata": {},
   "outputs": [],
   "source": [
    "height = np.array(patch.heightfield, copy = False)\n",
    "print(height.shape)\n",
    "print(np.array(patch.heightfield, copy = False))"
   ]
  },
  {
   "cell_type": "code",
   "execution_count": null,
   "metadata": {},
   "outputs": [],
   "source": [
    "points = np.dstack((\n",
    "  np.repeat(\n",
    "    np.arange(0, height.shape[0]).reshape(-1, 1),\n",
    "    height.shape[1],\n",
    "    axis = 1\n",
    "  ),\n",
    "  height,\n",
    "  np.repeat(\n",
    "    np.arange(0, height.shape[1]).reshape(1, -1),\n",
    "    height.shape[0],\n",
    "    axis = 0\n",
    "  ),\n",
    ")).reshape(-1, 3)"
   ]
  },
  {
   "cell_type": "code",
   "execution_count": null,
   "metadata": {},
   "outputs": [],
   "source": [
    "points"
   ]
  },
  {
   "cell_type": "code",
   "execution_count": null,
   "metadata": {},
   "outputs": [],
   "source": [
    "# copilot lawl\n",
    "indices = np.arange(patch.local_rows * patch.local_cols).reshape(patch.local_rows, patch.local_cols)\n",
    "triangles = np.array([indices[:-1, :-1], indices[:-1, 1:], indices[1:, :-1], indices[1:, :-1], indices[:-1, 1:], indices[1:, 1:]])\n",
    "index_buffer = triangles.transpose(1, 2, 0).reshape(-1)\n",
    "\n",
    "print(index_buffer)"
   ]
  },
  {
   "cell_type": "code",
   "execution_count": null,
   "metadata": {},
   "outputs": [],
   "source": [
    "GUSTAV._lspk.num_parts()"
   ]
  },
  {
   "cell_type": "code",
   "execution_count": null,
   "metadata": {},
   "outputs": [],
   "source": [
    "def vt_test():\n",
    "  for name in VIRTUAL_TEXTURES.files():\n",
    "    if VIRTUAL_TEXTURES.file_part(name) > 0:\n",
    "      print(name)\n",
    "      data = VIRTUAL_TEXTURES.file_data(name)\n",
    "      os.makedirs(f\"tmp/{os.path.dirname(name)}\", exist_ok = True)\n",
    "      with open(f\"tmp/{name}\", \"wb\") as f:\n",
    "        f.write(data)\n",
    "      break\n",
    "vt_test()"
   ]
  },
  {
   "cell_type": "code",
   "execution_count": null,
   "metadata": {},
   "outputs": [],
   "source": [
    "#for name in VIRTUAL_TEXTURES.files():\n",
    "#  if name.endswith(\".gts\"):\n",
    "#    print(f\"granite tileset: {name} {VIRTUAL_TEXTURES.file_size(name)}\")\n",
    "#    os.makedirs(f\"tmp/{os.path.dirname(name)}\", exist_ok = True)\n",
    "#    with open(f\"tmp/{name}\", \"wb\") as f:\n",
    "#      f.write(VIRTUAL_TEXTURES.file_data(name))"
   ]
  },
  {
   "cell_type": "code",
   "execution_count": null,
   "metadata": {},
   "outputs": [],
   "source": [
    "gts = _pybg3._GtsReader.from_path(\"tmp/Generated/Public/VirtualTextures/Albedo_Normal_Physical_0.gts\")"
   ]
  },
  {
   "cell_type": "code",
   "execution_count": null,
   "metadata": {},
   "outputs": [],
   "source": [
    "gts.dump()"
   ]
  },
  {
   "cell_type": "code",
   "execution_count": null,
   "metadata": {},
   "outputs": [],
   "source": []
  }
 ],
 "metadata": {
  "kernelspec": {
   "display_name": ".venv",
   "language": "python",
   "name": "python3"
  },
  "language_info": {
   "codemirror_mode": {
    "name": "ipython",
    "version": 3
   },
   "file_extension": ".py",
   "mimetype": "text/x-python",
   "name": "python",
   "nbconvert_exporter": "python",
   "pygments_lexer": "ipython3",
   "version": "3.11.9"
  }
 },
 "nbformat": 4,
 "nbformat_minor": 2
}
