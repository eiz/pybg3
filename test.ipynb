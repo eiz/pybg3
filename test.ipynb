{
 "cells": [
  {
   "cell_type": "code",
   "execution_count": 1,
   "metadata": {},
   "outputs": [],
   "source": [
    "import os\n",
    "import pprint\n",
    "import re\n",
    "import time\n",
    "from pathlib import Path\n",
    "from pxr import Usd, UsdGeom\n",
    "from pybg3 import pak, lsf, _pybg3"
   ]
  },
  {
   "cell_type": "code",
   "execution_count": 2,
   "metadata": {},
   "outputs": [],
   "source": [
    "def checktime(msg, cb):\n",
    "    t_start = time.time()\n",
    "    rv = cb()\n",
    "    t_end = time.time()\n",
    "    print(f\"{msg}: {t_end - t_start}\")\n",
    "    return rv"
   ]
  },
  {
   "cell_type": "code",
   "execution_count": 3,
   "metadata": {},
   "outputs": [
    {
     "name": "stdout",
     "output_type": "stream",
     "text": [
      "Gustav.pak: 0.06760311126708984\n",
      "Shared.pak: 0.004001140594482422\n",
      "Engine.pak: 0.00037026405334472656\n",
      "Models.pak: 0.06220293045043945\n"
     ]
    }
   ],
   "source": [
    "BG3_ROOT = Path(os.environ.get(\"BG3_DATA\", os.path.expanduser(\"~/l/bg3/Data\")))\n",
    "GUSTAV = checktime(\"Gustav.pak\", lambda: pak.PakFile(BG3_ROOT / \"Gustav.pak\"))\n",
    "SHARED = checktime(\"Shared.pak\", lambda: pak.PakFile(BG3_ROOT / \"Shared.pak\"))\n",
    "ENGINE = checktime(\"Engine.pak\", lambda: pak.PakFile(BG3_ROOT / \"Engine.pak\"))\n",
    "MODELS = checktime(\"Models.pak\", lambda: pak.PakFile(BG3_ROOT / \"Models.pak\"))"
   ]
  },
  {
   "cell_type": "code",
   "execution_count": 4,
   "metadata": {},
   "outputs": [],
   "source": [
    "data = GUSTAV.file_data(\"Generated/Public/GustavDev/Assets/HLOD/BGH_SteelWatchFoundry_B/HLOD_1_0_0_1.GR2\")\n",
    "granny = _pybg3._GrannyReader.from_data(data)"
   ]
  },
  {
   "cell_type": "code",
   "execution_count": 9,
   "metadata": {},
   "outputs": [
    {
     "name": "stdout",
     "output_type": "stream",
     "text": [
      "Animations: <pybg3._pybg3._GrannyPtrSpan object at 0x121fffeb0>\n",
      "ArtToolInfo: <pybg3._pybg3._GrannyPtr object at 0x121fffeb0>\n",
      "ExporterInfo: <pybg3._pybg3._GrannyPtr object at 0x121fffeb0>\n",
      "ExtendedData: <pybg3._pybg3._GrannyPtr object at 0x121fffeb0>\n",
      "FromFileName: D:\\Jenkins\\workspace\\Repo\\FB\\Main_BuildServer_HLOD\\FW4\\Stable\\LSProjects\\Apps\\Gustav\\Data\\Generated\\Public\\GustavDev\\Assets\\HLOD\\BGH_SteelWatchFoundry_B\\HLOD_1_0_0_1.fbx\n",
      "Materials: <pybg3._pybg3._GrannyPtrSpan object at 0x121fffeb0>\n",
      "Meshes: <pybg3._pybg3._GrannyPtrSpan object at 0x121fffeb0>\n",
      "Models: <pybg3._pybg3._GrannyPtrSpan object at 0x121fffeb0>\n",
      "Skeletons: <pybg3._pybg3._GrannyPtrSpan object at 0x121fffeb0>\n",
      "Textures: <pybg3._pybg3._GrannyPtrSpan object at 0x121fffeb0>\n",
      "TrackGroups: <pybg3._pybg3._GrannyPtrSpan object at 0x121fffeb0>\n",
      "TriTopologies: <pybg3._pybg3._GrannyPtrSpan object at 0x121fffeb0>\n",
      "VertexDatas: <pybg3._pybg3._GrannyPtrSpan object at 0x121fffeb0>\n",
      "['ArtToolMajorRevision', 'ArtToolMinorRevision', 'ArtToolPointerSize', 'BackVector', 'ExtendedData', 'FromArtToolName', 'Origin', 'RightVector', 'UnitsPerMeter', 'UpVector']\n",
      "64\n",
      "0.0\n"
     ]
    }
   ],
   "source": [
    "root = granny.root\n",
    "for name in dir(root):\n",
    "  print(f\"{name}: {root.__getattr__(name)}\")\n",
    "print(dir(root.ArtToolInfo))\n",
    "print(root.ArtToolInfo.ArtToolPointerSize)\n",
    "print(root.ArtToolInfo.UpVector)"
   ]
  },
  {
   "cell_type": "code",
   "execution_count": null,
   "metadata": {},
   "outputs": [],
   "source": []
  }
 ],
 "metadata": {
  "kernelspec": {
   "display_name": ".venv",
   "language": "python",
   "name": "python3"
  },
  "language_info": {
   "codemirror_mode": {
    "name": "ipython",
    "version": 3
   },
   "file_extension": ".py",
   "mimetype": "text/x-python",
   "name": "python",
   "nbconvert_exporter": "python",
   "pygments_lexer": "ipython3",
   "version": "3.11.9"
  }
 },
 "nbformat": 4,
 "nbformat_minor": 2
}
