{
 "cells": [
  {
   "cell_type": "code",
   "execution_count": 1,
   "metadata": {},
   "outputs": [],
   "source": [
    "import os\n",
    "import pprint\n",
    "import re\n",
    "import time\n",
    "import numpy as np\n",
    "from numpy.lib import recfunctions as rfn\n",
    "from pathlib import Path\n",
    "from pxr import Usd, UsdGeom, Vt, Gf\n",
    "from pybg3 import pak, lsf, _pybg3"
   ]
  },
  {
   "cell_type": "code",
   "execution_count": 2,
   "metadata": {},
   "outputs": [],
   "source": [
    "def checktime(msg, cb):\n",
    "    t_start = time.time()\n",
    "    rv = cb()\n",
    "    t_end = time.time()\n",
    "    print(f\"{msg}: {t_end - t_start}\")\n",
    "    return rv"
   ]
  },
  {
   "cell_type": "code",
   "execution_count": 3,
   "metadata": {},
   "outputs": [
    {
     "name": "stdout",
     "output_type": "stream",
     "text": [
      "Gustav.pak: 0.058767080307006836\n",
      "Shared.pak: 0.0038907527923583984\n",
      "Engine.pak: 0.00034117698669433594\n",
      "Models.pak: 0.060588836669921875\n",
      "VirtualTextures.pak: 0.05281996726989746\n"
     ]
    }
   ],
   "source": [
    "BG3_ROOT = Path(os.environ.get(\"BG3_DATA\", os.path.expanduser(\"~/l/bg3/Data\")))\n",
    "GUSTAV = checktime(\"Gustav.pak\", lambda: pak.PakFile(BG3_ROOT / \"Gustav.pak\"))\n",
    "SHARED = checktime(\"Shared.pak\", lambda: pak.PakFile(BG3_ROOT / \"Shared.pak\"))\n",
    "ENGINE = checktime(\"Engine.pak\", lambda: pak.PakFile(BG3_ROOT / \"Engine.pak\"))\n",
    "MODELS = checktime(\"Models.pak\", lambda: pak.PakFile(BG3_ROOT / \"Models.pak\"))\n",
    "VIRTUAL_TEXTURES = checktime(\"VirtualTextures.pak\", lambda: pak.PakFile(BG3_ROOT / \"VirtualTextures.pak\"))"
   ]
  },
  {
   "cell_type": "code",
   "execution_count": 4,
   "metadata": {},
   "outputs": [],
   "source": [
    "data = GUSTAV.file_data(\"Generated/Public/GustavDev/Assets/HLOD/BGH_SteelWatchFoundry_B/HLOD_1_0_0_1.GR2\")\n",
    "granny = _pybg3._GrannyReader.from_data(data)"
   ]
  },
  {
   "cell_type": "code",
   "execution_count": 5,
   "metadata": {},
   "outputs": [
    {
     "name": "stdout",
     "output_type": "stream",
     "text": [
      "Animations: <pybg3._pybg3._GrannyPtrSpan object at 0x1192a8e30>\n",
      "ArtToolInfo: <pybg3._pybg3._GrannyPtr object at 0x1192a8e30>\n",
      "ExporterInfo: None\n",
      "ExtendedData: None\n",
      "FromFileName: D:\\Jenkins\\workspace\\Repo\\FB\\Main_BuildServer_HLOD\\FW4\\Stable\\LSProjects\\Apps\\Gustav\\Data\\Generated\\Public\\GustavDev\\Assets\\HLOD\\BGH_SteelWatchFoundry_B\\HLOD_1_0_0_1.fbx\n",
      "Materials: <pybg3._pybg3._GrannyPtrSpan object at 0x1192a8e30>\n",
      "Meshes: <pybg3._pybg3._GrannyPtrSpan object at 0x1192a8e30>\n",
      "Models: <pybg3._pybg3._GrannyPtrSpan object at 0x1192a8e30>\n",
      "Skeletons: <pybg3._pybg3._GrannyPtrSpan object at 0x1192a8e30>\n",
      "Textures: <pybg3._pybg3._GrannyPtrSpan object at 0x1192a8e30>\n",
      "TrackGroups: <pybg3._pybg3._GrannyPtrSpan object at 0x1192a8e30>\n",
      "TriTopologies: <pybg3._pybg3._GrannyPtrSpan object at 0x1192a8e30>\n",
      "VertexDatas: <pybg3._pybg3._GrannyPtrSpan object at 0x1192a8e30>\n",
      "['ArtToolMajorRevision', 'ArtToolMinorRevision', 'ArtToolPointerSize', 'BackVector', 'ExtendedData', 'FromArtToolName', 'Origin', 'RightVector', 'UnitsPerMeter', 'UpVector']\n",
      "64\n",
      "[0.0, 1.0, 0.0]\n"
     ]
    }
   ],
   "source": [
    "root = granny.root\n",
    "for name in dir(root):\n",
    "  print(f\"{name}: {root.__getattr__(name)}\")\n",
    "print(dir(root.ArtToolInfo))\n",
    "print(root.ArtToolInfo.ArtToolPointerSize)\n",
    "print(root.ArtToolInfo.UpVector)"
   ]
  },
  {
   "cell_type": "code",
   "execution_count": 6,
   "metadata": {},
   "outputs": [
    {
     "name": "stdout",
     "output_type": "stream",
     "text": [
      "GustavDev_BGH_SteelWatchFoundry_B_HLOD_1_0_0_1_6\n",
      "<pybg3._pybg3._GrannyDirectSpan object at 0x11926e230>\n",
      "<pybg3._pybg3._GrannyDirectSpan object at 0x11921de70>: 61136 vertices\n",
      "vertex data: [(-22.55572  ,  2.00884  , -20.178854 ,  17575,  -765, -15485, 22900, 0.3567, 0.5986)\n",
      " (-22.265688 ,  1.6835029, -20.419418 ,   7340,  5968, -13937, 28106, 0.3604, 0.5986)\n",
      " (-22.633457 ,  2.1683881, -20.025026 ,   7376,  5392, -14106, 28128, 0.355 , 0.5986)\n",
      " ...\n",
      " (  7.3702993, -1.881639 ,  -7.500201 ,  -8471,  -142, -31652,   244, 0.8667, 0.4783)\n",
      " (  7.585391 , -1.8492799,  -7.5070524, -10062, 16950, -26048,  2576, 0.865 , 0.4783)\n",
      " (  7.5191507, -1.8988459,  -7.562937 ,  -9586, 10161, -29620,  1103, 0.8657, 0.4785)]\n",
      "vertex data shape: (61136,)\n",
      "vertex data dtype: [('f0', '<f4'), ('f1', '<f4'), ('f2', '<f4'), ('f3', '<i2'), ('f4', '<i2'), ('f5', '<i2'), ('f6', '<i2'), ('f7', '<f2'), ('f8', '<f2')]\n",
      "reshaped vertex data: [[-22.55572     2.00884   -20.178854 ]\n",
      " [-22.265688    1.6835029 -20.419418 ]\n",
      " [-22.633457    2.1683881 -20.025026 ]\n",
      " ...\n",
      " [  7.3702993  -1.881639   -7.500201 ]\n",
      " [  7.585391   -1.8492799  -7.5070524]\n",
      " [  7.5191507  -1.8988459  -7.562937 ]] (61136, 3) float32\n",
      "['VertexAnnotationSets', 'VertexComponentNames', 'Vertices']\n",
      "GustavDev_BGH_SteelWatchFoundry_B_HLOD_1_0_0_1_5\n",
      "<pybg3._pybg3._GrannyDirectSpan object at 0x1192ad3b0>\n",
      "<pybg3._pybg3._GrannyDirectSpan object at 0x1192ad3b0>: 65534 vertices\n",
      "vertex data: [( -9.198171, 5.485539 , -13.616674 ,   -766,  22449,  23841,  858, 0.0942 , 0.386 )\n",
      " ( -8.071223, 5.4654546, -13.5608015,    -52,  23520,  22814,    4, 0.086  , 0.386 )\n",
      " ( -8.214332, 5.465795 , -13.500123 ,    210, -26044, -19883,   20, 0.08704, 0.3862)\n",
      " ...\n",
      " (-25.890898, 4.0212464, -20.56415  , -31923,   3639,  -6367,  923, 0.4402 , 0.5884)\n",
      " (-25.681868, 4.495537 , -20.52955  ,  32415,  -4675,   -837,  613, 0.4407 , 0.5864)\n",
      " (-25.717365, 3.6451976, -20.494524 , -31942,   3068,  -5452, 3772, 0.4421 , 0.5894)]\n",
      "vertex data shape: (65534,)\n",
      "vertex data dtype: [('f0', '<f4'), ('f1', '<f4'), ('f2', '<f4'), ('f3', '<i2'), ('f4', '<i2'), ('f5', '<i2'), ('f6', '<i2'), ('f7', '<f2'), ('f8', '<f2')]\n",
      "reshaped vertex data: [[ -9.198171    5.485539  -13.616674 ]\n",
      " [ -8.071223    5.4654546 -13.5608015]\n",
      " [ -8.214332    5.465795  -13.500123 ]\n",
      " ...\n",
      " [-25.890898    4.0212464 -20.56415  ]\n",
      " [-25.681868    4.495537  -20.52955  ]\n",
      " [-25.717365    3.6451976 -20.494524 ]] (65534, 3) float32\n",
      "['VertexAnnotationSets', 'VertexComponentNames', 'Vertices']\n",
      "GustavDev_BGH_SteelWatchFoundry_B_HLOD_1_0_0_1_4\n",
      "<pybg3._pybg3._GrannyDirectSpan object at 0x1192a80f0>\n",
      "<pybg3._pybg3._GrannyDirectSpan object at 0x1192a80f0>: 65535 vertices\n",
      "vertex data: [(-4.6057596, -20.85151  ,  31.242924,  15810, -16997, -13005, 19123, 0.5996, 0.55  )\n",
      " (-4.601645 , -18.752188 ,  31.994534,  18098, -22226, -10343, 12049, 0.586 , 0.554 )\n",
      " (-4.6152196, -17.128973 ,  32.03046 ,  14166, -20301, -12569, 17404, 0.5747, 0.556 )\n",
      " ...\n",
      " (-9.954838 ,   7.626014 , -12.275962, -20092,  23435,  -7038,  8441, 0.281 , 0.3467)\n",
      " (-9.929493 ,   7.1480174, -12.278255, -20767,  23644,  -5123,  7559, 0.2844, 0.3462)\n",
      " (-9.976965 ,   6.2686505, -13.363796, -17932,  23929, -11687,  6554, 0.2922, 0.3496)]\n",
      "vertex data shape: (65535,)\n",
      "vertex data dtype: [('f0', '<f4'), ('f1', '<f4'), ('f2', '<f4'), ('f3', '<i2'), ('f4', '<i2'), ('f5', '<i2'), ('f6', '<i2'), ('f7', '<f2'), ('f8', '<f2')]\n",
      "reshaped vertex data: [[ -4.6057596 -20.85151    31.242924 ]\n",
      " [ -4.601645  -18.752188   31.994534 ]\n",
      " [ -4.6152196 -17.128973   32.03046  ]\n",
      " ...\n",
      " [ -9.954838    7.626014  -12.275962 ]\n",
      " [ -9.929493    7.1480174 -12.278255 ]\n",
      " [ -9.976965    6.2686505 -13.363796 ]] (65535, 3) float32\n",
      "['VertexAnnotationSets', 'VertexComponentNames', 'Vertices']\n",
      "GustavDev_BGH_SteelWatchFoundry_B_HLOD_1_0_0_1_3\n",
      "<pybg3._pybg3._GrannyDirectSpan object at 0x1192ac3b0>\n",
      "<pybg3._pybg3._GrannyDirectSpan object at 0x1192ad1f0>: 65534 vertices\n",
      "vertex data: [( 8.007426 ,  -1.7133474, 27.141335, 21439, -20676,  -8234, 10898, 0.97  , 0.1168)\n",
      " ( 7.9916754,  -2.429806 , 27.190887,  9844, -11088, -20796, 20527, 0.9756, 0.1168)\n",
      " ( 8.016154 ,  -1.8257154, 27.175167, 18319, -17328, -13090, 16324, 0.971 , 0.1169)\n",
      " ...\n",
      " (-3.4503744, -12.602867 , 32.238403, 13010, -10657,  18356, 21306, 0.2195, 0.9844)\n",
      " (-3.5317864, -12.59274  , 32.03552 , 17572, -17293,  12837, 17351, 0.218 , 0.9844)\n",
      " (-3.4238384, -12.62852  , 32.02232 , 10025, -15315,  11888, 24440, 0.218 , 0.984 )]\n",
      "vertex data shape: (65534,)\n",
      "vertex data dtype: [('f0', '<f4'), ('f1', '<f4'), ('f2', '<f4'), ('f3', '<i2'), ('f4', '<i2'), ('f5', '<i2'), ('f6', '<i2'), ('f7', '<f2'), ('f8', '<f2')]\n",
      "reshaped vertex data: [[  8.007426   -1.7133474  27.141335 ]\n",
      " [  7.9916754  -2.429806   27.190887 ]\n",
      " [  8.016154   -1.8257154  27.175167 ]\n",
      " ...\n",
      " [ -3.4503744 -12.602867   32.238403 ]\n",
      " [ -3.5317864 -12.59274    32.03552  ]\n",
      " [ -3.4238384 -12.62852    32.02232  ]] (65534, 3) float32\n",
      "['VertexAnnotationSets', 'VertexComponentNames', 'Vertices']\n",
      "GustavDev_BGH_SteelWatchFoundry_B_HLOD_1_0_0_1_2\n",
      "<pybg3._pybg3._GrannyDirectSpan object at 0x1192ab9b0>\n",
      "<pybg3._pybg3._GrannyDirectSpan object at 0x1192a98f0>: 65532 vertices\n",
      "vertex data: [(-26.58051  , -4.314791 , -25.122353, -1214, -18773,    35, 26828, 0.693  , 0.2349)\n",
      " (-26.577168 , -4.2228203, -25.481253, -2329, -21014, -1801, 24968, 0.6904 , 0.2352)\n",
      " (-26.60977  , -4.663366 , -25.535837, -1066, -23403,  -238, 22908, 0.69   , 0.2336)\n",
      " ...\n",
      " (  6.846859 , -1.8145715,  27.945986, -3034,  30332, 11971,  1073, 0.06995, 0.332 )\n",
      " (  6.4144425, -1.8385072,  27.926971, -4736,  31086,  8833,  2629, 0.07306, 0.3325)\n",
      " (  6.4473076, -1.8130358,  27.951471, -4603,  27989, 16198,  2596, 0.0727 , 0.3325)]\n",
      "vertex data shape: (65532,)\n",
      "vertex data dtype: [('f0', '<f4'), ('f1', '<f4'), ('f2', '<f4'), ('f3', '<i2'), ('f4', '<i2'), ('f5', '<i2'), ('f6', '<i2'), ('f7', '<f2'), ('f8', '<f2')]\n",
      "reshaped vertex data: [[-26.58051    -4.314791  -25.122353 ]\n",
      " [-26.577168   -4.2228203 -25.481253 ]\n",
      " [-26.60977    -4.663366  -25.535837 ]\n",
      " ...\n",
      " [  6.846859   -1.8145715  27.945986 ]\n",
      " [  6.4144425  -1.8385072  27.926971 ]\n",
      " [  6.4473076  -1.8130358  27.951471 ]] (65532, 3) float32\n",
      "['VertexAnnotationSets', 'VertexComponentNames', 'Vertices']\n",
      "GustavDev_BGH_SteelWatchFoundry_B_HLOD_1_0_0_1_1\n",
      "<pybg3._pybg3._GrannyDirectSpan object at 0x1192ad3b0>\n",
      "<pybg3._pybg3._GrannyDirectSpan object at 0x1192ad3b0>: 65518 vertices\n",
      "vertex data: [(-10.476115,  2.1620123,  13.150199,  16711, -22022,  14317, 10222, 0.4084, 0.864 )\n",
      " (-10.42226 ,  2.353142 ,  12.826004,  19408, -18770,  17858,  5076, 0.4058, 0.8643)\n",
      " (-10.577211,  2.1030204,  13.298455,  16976, -15986,  22500,  4867, 0.4097, 0.8643)\n",
      " ...\n",
      " (-26.577362, -4.356007 , -25.09766 , -17389,  -6029, -17712, 20524, 0.693 , 0.2346)\n",
      " (-26.478159, -4.44676  , -25.01807 , -17059,  -2514, -19921, 19481, 0.6943, 0.2349)\n",
      " (-26.580854, -4.420288 , -24.94396 , -20875,  -6331, -16050, 18446, 0.6943, 0.2344)]\n",
      "vertex data shape: (65518,)\n",
      "vertex data dtype: [('f0', '<f4'), ('f1', '<f4'), ('f2', '<f4'), ('f3', '<i2'), ('f4', '<i2'), ('f5', '<i2'), ('f6', '<i2'), ('f7', '<f2'), ('f8', '<f2')]\n",
      "reshaped vertex data: [[-10.476115    2.1620123  13.150199 ]\n",
      " [-10.42226     2.353142   12.826004 ]\n",
      " [-10.577211    2.1030204  13.298455 ]\n",
      " ...\n",
      " [-26.577362   -4.356007  -25.09766  ]\n",
      " [-26.478159   -4.44676   -25.01807  ]\n",
      " [-26.580854   -4.420288  -24.94396  ]] (65518, 3) float32\n",
      "['VertexAnnotationSets', 'VertexComponentNames', 'Vertices']\n",
      "GustavDev_BGH_SteelWatchFoundry_B_HLOD_1_0_0_1_0\n",
      "<pybg3._pybg3._GrannyDirectSpan object at 0x1192a98f0>\n",
      "<pybg3._pybg3._GrannyDirectSpan object at 0x1192a98f0>: 65535 vertices\n",
      "vertex data: [(-23.701828, -3.347102 , -23.103354, -11800, -16254, -20646, 15620, 0.455 , 0.9326 )\n",
      " (-23.534811, -3.3439908, -23.10261 , -12363, -19638, -17595, 15019, 0.4546, 0.933  )\n",
      " (-23.469276, -3.3978832, -23.346708, -14885, -17059, -20437, 11976, 0.453 , 0.933  )\n",
      " ...\n",
      " (-10.616241,  2.0700152,  13.47724 ,   6713, -28846,   -495, 14009, 0.8955, 0.05173)\n",
      " (-10.577211,  2.1030204,  13.298455,   2535, -24124, -10524, 19353, 0.894 , 0.0515 )\n",
      " (-10.495435,  2.3413503,  13.04284 ,   7362, -24928,  -7050, 18665, 0.8916, 0.0517 )]\n",
      "vertex data shape: (65535,)\n",
      "vertex data dtype: [('f0', '<f4'), ('f1', '<f4'), ('f2', '<f4'), ('f3', '<i2'), ('f4', '<i2'), ('f5', '<i2'), ('f6', '<i2'), ('f7', '<f2'), ('f8', '<f2')]\n",
      "reshaped vertex data: [[-23.701828   -3.347102  -23.103354 ]\n",
      " [-23.534811   -3.3439908 -23.10261  ]\n",
      " [-23.469276   -3.3978832 -23.346708 ]\n",
      " ...\n",
      " [-10.616241    2.0700152  13.47724  ]\n",
      " [-10.577211    2.1030204  13.298455 ]\n",
      " [-10.495435    2.3413503  13.04284  ]] (65535, 3) float32\n",
      "['VertexAnnotationSets', 'VertexComponentNames', 'Vertices']\n",
      "GustavDev_BGH_SteelWatchFoundry_B_HLOD_1_0_0_1_emissive_0\n",
      "<pybg3._pybg3._GrannyDirectSpan object at 0x1192a0970>\n",
      "<pybg3._pybg3._GrannyDirectSpan object at 0x108550230>: 13484 vertices\n",
      "vertex data: [(-26.656794,  2.0771506, -15.600949,  10112, -20929, -20845,  9946, 0.89  , 0.4612 )\n",
      " (-26.739279,  2.2152388, -15.695898,  -6915,  -4345,  21708, 23146, 0.7026, 0.09985)\n",
      " (-26.710913,  2.076465 , -15.875052, -11367, -21101, -13655, 17684, 0.8164, 0.3818 )\n",
      " ...\n",
      " ( 20.03624 ,  2.7053237, -28.885475,  20041,  22269,   8794,  9940, 0.2976, 0.0785 )\n",
      " (-26.235212,  2.9473543, -25.616598,   6594,   6296,  19384, 24795, 0.783 , 0.87   )\n",
      " (-18.85107 , -3.116481 , -21.630362, -20072,    270, -25457,  4761, 0.9834, 0.973  )]\n",
      "vertex data shape: (13484,)\n",
      "vertex data dtype: [('f0', '<f4'), ('f1', '<f4'), ('f2', '<f4'), ('f3', '<i2'), ('f4', '<i2'), ('f5', '<i2'), ('f6', '<i2'), ('f7', '<f2'), ('f8', '<f2')]\n",
      "reshaped vertex data: [[-26.656794    2.0771506 -15.600949 ]\n",
      " [-26.739279    2.2152388 -15.695898 ]\n",
      " [-26.710913    2.076465  -15.875052 ]\n",
      " ...\n",
      " [ 20.03624     2.7053237 -28.885475 ]\n",
      " [-26.235212    2.9473543 -25.616598 ]\n",
      " [-18.85107    -3.116481  -21.630362 ]] (13484, 3) float32\n",
      "['VertexAnnotationSets', 'VertexComponentNames', 'Vertices']\n",
      "GustavDev_BGH_SteelWatchFoundry_B_HLOD_1_0_0_1_two_sided_0\n",
      "<pybg3._pybg3._GrannyDirectSpan object at 0x1192a84f0>\n",
      "<pybg3._pybg3._GrannyDirectSpan object at 0x1192a84f0>: 50692 vertices\n",
      "vertex data: [(-24.625046 , -2.0028548, -23.8659  , -26556, -5324, -18307, -2223, 0.967 , 0.9937)\n",
      " (-24.64422  , -1.808923 , -23.916067, -24813, -4124, -20066, -6191, 0.9688, 0.994 )\n",
      " (-24.72352  , -1.8980783, -24.145746, -26773, -3261, -17937, -4952, 0.9717, 0.9937)\n",
      " ...\n",
      " (  3.5248914, -1.0747187, -20.974403,    242, 32553,   1600,  3367, 0.6274, 0.283 )\n",
      " (  2.9244092, -1.0879583, -21.107555,   1081, 32147,  -4860,  3932, 0.389 , 0.905 )\n",
      " (  8.108244 , -0.8977153, -22.754133,    558, 31659,  -8376,   974, 0.4219, 0.269 )]\n",
      "vertex data shape: (50692,)\n",
      "vertex data dtype: [('f0', '<f4'), ('f1', '<f4'), ('f2', '<f4'), ('f3', '<i2'), ('f4', '<i2'), ('f5', '<i2'), ('f6', '<i2'), ('f7', '<f2'), ('f8', '<f2')]\n",
      "reshaped vertex data: [[-24.625046   -2.0028548 -23.8659   ]\n",
      " [-24.64422    -1.808923  -23.916067 ]\n",
      " [-24.72352    -1.8980783 -24.145746 ]\n",
      " ...\n",
      " [  3.5248914  -1.0747187 -20.974403 ]\n",
      " [  2.9244092  -1.0879583 -21.107555 ]\n",
      " [  8.108244   -0.8977153 -22.754133 ]] (50692, 3) float32\n",
      "['VertexAnnotationSets', 'VertexComponentNames', 'Vertices']\n"
     ]
    }
   ],
   "source": [
    "for mesh in root.Meshes:\n",
    "  print(mesh.Name)\n",
    "  vd = mesh.PrimaryVertexData\n",
    "  nda = np.array(vd.Vertices, copy = False)\n",
    "  new_arr = rfn.structured_to_unstructured(nda[[\"f0\", \"f1\", \"f2\"]], copy = False)\n",
    "  print(vd.VertexComponentNames)\n",
    "  print(f\"{vd.Vertices}: {len(vd.Vertices)} vertices\")\n",
    "  print(f\"vertex data: {nda}\")\n",
    "  print(f\"vertex data shape: {nda.shape}\")\n",
    "  print(f\"vertex data dtype: {nda.dtype}\")\n",
    "  print(f\"reshaped vertex data: {new_arr} {new_arr.shape} {new_arr.dtype}\")\n",
    "  print(dir(vd))"
   ]
  },
  {
   "cell_type": "code",
   "execution_count": 7,
   "metadata": {},
   "outputs": [
    {
     "name": "stdout",
     "output_type": "stream",
     "text": [
      "GustavDev_BGH_SteelWatchFoundry_B_HLOD_1_0_0_1_6\n",
      "['Position', 'QTangent', 'TextureCoordinates0']\n"
     ]
    }
   ],
   "source": [
    "g_mesh = root.Meshes[0]\n",
    "g_vertices = np.array(g_mesh.PrimaryVertexData.Vertices, copy = False)\n",
    "g_indices = np.array(g_mesh.PrimaryTopology.Indices16, copy = False)\n",
    "print(g_mesh.Name)\n",
    "pprint.pp(dir(g_mesh.PrimaryVertexData.Vertices[0]))"
   ]
  },
  {
   "cell_type": "code",
   "execution_count": 8,
   "metadata": {},
   "outputs": [],
   "source": [
    "u_stage = Usd.Stage.CreateNew(\"tmp/granny_test.usda\")\n",
    "u_mesh = UsdGeom.Mesh.Define(u_stage, \"/mesh\")"
   ]
  },
  {
   "cell_type": "code",
   "execution_count": 9,
   "metadata": {},
   "outputs": [
    {
     "data": {
      "text/plain": [
       "True"
      ]
     },
     "execution_count": 9,
     "metadata": {},
     "output_type": "execute_result"
    }
   ],
   "source": [
    "u_points = u_mesh.CreatePointsAttr()\n",
    "g_positions = rfn.structured_to_unstructured(g_vertices[[\"f0\", \"f1\", \"f2\"]], copy = False)\n",
    "vt_vertices = Vt.Vec3fArray.FromNumpy(g_positions)\n",
    "vt_indices = Vt.IntArray.FromNumpy(g_indices)\n",
    "vt_face_counts = Vt.IntArray.FromNumpy(np.full(g_positions.shape[0], 3, dtype = np.int32))\n",
    "u_points.Set(vt_vertices)\n",
    "u_vertex_face_counts = u_mesh.CreateFaceVertexCountsAttr()\n",
    "u_vertex_face_counts.Set(vt_face_counts)\n",
    "u_vertex_indices = u_mesh.CreateFaceVertexIndicesAttr()\n",
    "u_vertex_indices.Set(vt_indices)"
   ]
  },
  {
   "cell_type": "code",
   "execution_count": 10,
   "metadata": {},
   "outputs": [
    {
     "data": {
      "text/plain": [
       "True"
      ]
     },
     "execution_count": 10,
     "metadata": {},
     "output_type": "execute_result"
    }
   ],
   "source": [
    "u_stage.GetRootLayer().Save()"
   ]
  },
  {
   "cell_type": "code",
   "execution_count": 11,
   "metadata": {},
   "outputs": [
    {
     "name": "stdout",
     "output_type": "stream",
     "text": [
      "GustavDev_BGH_SteelWatchFoundry_B_HLOD_1_0_0_1_6\n",
      "GustavDev_BGH_SteelWatchFoundry_B_HLOD_1_0_0_1_5\n",
      "GustavDev_BGH_SteelWatchFoundry_B_HLOD_1_0_0_1_4\n",
      "GustavDev_BGH_SteelWatchFoundry_B_HLOD_1_0_0_1_3\n",
      "GustavDev_BGH_SteelWatchFoundry_B_HLOD_1_0_0_1_2\n",
      "GustavDev_BGH_SteelWatchFoundry_B_HLOD_1_0_0_1_1\n",
      "GustavDev_BGH_SteelWatchFoundry_B_HLOD_1_0_0_1_0\n",
      "GustavDev_BGH_SteelWatchFoundry_B_HLOD_1_0_0_1_emissive_0\n",
      "GustavDev_BGH_SteelWatchFoundry_B_HLOD_1_0_0_1_two_sided_0\n"
     ]
    }
   ],
   "source": [
    "for mesh in root.Meshes:\n",
    "  print(mesh.Name)"
   ]
  },
  {
   "cell_type": "code",
   "execution_count": 12,
   "metadata": {},
   "outputs": [
    {
     "name": "stdout",
     "output_type": "stream",
     "text": [
      "139204\n",
      "['Animations', 'ArtToolInfo', 'ExporterInfo', 'ExtendedData', 'FromFileName', 'Materials', 'Meshes', 'Models', 'Skeletons', 'Textures', 'TrackGroups', 'TriTopologies', 'VertexDatas']\n",
      "NAT_Coastal_Plant_Bush_Pine_Small_A_Mesh_LOD3\n",
      "NAT_Coastal_Plant_Bush_Pine_Small_A_Mesh_LOD2\n",
      "NAT_Coastal_Plant_Bush_Pine_Small_A_Mesh_LOD1\n",
      "NAT_Coastal_Plant_Bush_Pine_Small_A_Mesh\n",
      "Dummy_NAT_Coastal_Plant_Bush_Pine_Small_A\n"
     ]
    }
   ],
   "source": [
    "squirrel = MODELS.file_data(\"Generated/Public/Shared/Assets/Nature/Plants/NAT_Coastal_Plant_Bush_Pine_ABC/Resources/NAT_Coastal_Plant_Bush_Pine_Small_A.GR2\")\n",
    "print(len(squirrel))\n",
    "g_squirrel = _pybg3._GrannyReader.from_data(squirrel)\n",
    "print(dir(g_squirrel.root))\n",
    "for mesh in g_squirrel.root.Meshes:\n",
    "  print(mesh.Name)\n",
    "for model in g_squirrel.root.Models:\n",
    "  print(model.Name)"
   ]
  },
  {
   "cell_type": "code",
   "execution_count": 13,
   "metadata": {},
   "outputs": [
    {
     "data": {
      "text/plain": [
       "Gf.Quatf(0.0, Gf.Vec3f(0.0, 0.0, 1.0))"
      ]
     },
     "execution_count": 13,
     "metadata": {},
     "output_type": "execute_result"
    }
   ],
   "source": [
    "Gf.Quatf(0,0,0,1)"
   ]
  },
  {
   "cell_type": "code",
   "execution_count": 14,
   "metadata": {},
   "outputs": [],
   "source": [
    "patch_data = GUSTAV.file_data(\"Mods/Gustav/Levels/TUT_Avernus_C/Terrains/2b55a30d-aca1-447f-8f4e-4d9215958607_2_0.patch\")\n",
    "patch = _pybg3._PatchFile.from_data(patch_data)"
   ]
  },
  {
   "cell_type": "code",
   "execution_count": 15,
   "metadata": {},
   "outputs": [
    {
     "name": "stdout",
     "output_type": "stream",
     "text": [
      "(65, 18)\n",
      "[[0.        0.        0.        ... 0.        0.        0.       ]\n",
      " [0.        0.        0.        ... 0.        0.        0.       ]\n",
      " [0.        0.        0.        ... 0.        0.        0.       ]\n",
      " ...\n",
      " [7.6419263 5.7370896 4.1396384 ... 0.        0.        0.       ]\n",
      " [7.9959707 6.4323583 5.076839  ... 0.        0.        0.       ]\n",
      " [7.6588874 6.927524  5.5049357 ... 0.        0.        0.       ]]\n"
     ]
    }
   ],
   "source": [
    "height = np.array(patch.heightfield, copy = False)\n",
    "print(height.shape)\n",
    "print(np.array(patch.heightfield, copy = False))"
   ]
  },
  {
   "cell_type": "code",
   "execution_count": 16,
   "metadata": {},
   "outputs": [],
   "source": [
    "points = np.dstack((\n",
    "  np.repeat(\n",
    "    np.arange(0, height.shape[0]).reshape(-1, 1),\n",
    "    height.shape[1],\n",
    "    axis = 1\n",
    "  ),\n",
    "  height,\n",
    "  np.repeat(\n",
    "    np.arange(0, height.shape[1]).reshape(1, -1),\n",
    "    height.shape[0],\n",
    "    axis = 0\n",
    "  ),\n",
    ")).reshape(-1, 3)"
   ]
  },
  {
   "cell_type": "code",
   "execution_count": 17,
   "metadata": {},
   "outputs": [
    {
     "data": {
      "text/plain": [
       "array([[ 0.,  0.,  0.],\n",
       "       [ 0.,  0.,  1.],\n",
       "       [ 0.,  0.,  2.],\n",
       "       ...,\n",
       "       [64.,  0., 15.],\n",
       "       [64.,  0., 16.],\n",
       "       [64.,  0., 17.]])"
      ]
     },
     "execution_count": 17,
     "metadata": {},
     "output_type": "execute_result"
    }
   ],
   "source": [
    "points"
   ]
  },
  {
   "cell_type": "code",
   "execution_count": 18,
   "metadata": {},
   "outputs": [
    {
     "name": "stdout",
     "output_type": "stream",
     "text": [
      "[   0    1   18 ... 1168 1151 1169]\n"
     ]
    }
   ],
   "source": [
    "# copilot lawl\n",
    "indices = np.arange(patch.local_rows * patch.local_cols).reshape(patch.local_rows, patch.local_cols)\n",
    "triangles = np.array([indices[:-1, :-1], indices[:-1, 1:], indices[1:, :-1], indices[1:, :-1], indices[:-1, 1:], indices[1:, 1:]])\n",
    "index_buffer = triangles.transpose(1, 2, 0).reshape(-1)\n",
    "\n",
    "print(index_buffer)"
   ]
  },
  {
   "cell_type": "code",
   "execution_count": 19,
   "metadata": {},
   "outputs": [
    {
     "data": {
      "text/plain": [
       "1"
      ]
     },
     "execution_count": 19,
     "metadata": {},
     "output_type": "execute_result"
    }
   ],
   "source": [
    "GUSTAV._lspk.num_parts()"
   ]
  },
  {
   "cell_type": "code",
   "execution_count": 20,
   "metadata": {},
   "outputs": [
    {
     "name": "stdout",
     "output_type": "stream",
     "text": [
      "Generated/Public/VirtualTextures/Albedo_Normal_Physical_3_33b4a4abc3fa10dbd2866bb430463254.gtp\n"
     ]
    },
    {
     "ename": "FileNotFoundError",
     "evalue": "[Errno 2] No such file or directory: 'tmp/Generated/Public/VirtualTextures/Albedo_Normal_Physical_3_33b4a4abc3fa10dbd2866bb430463254.gtp'",
     "output_type": "error",
     "traceback": [
      "\u001b[0;31m---------------------------------------------------------------------------\u001b[0m",
      "\u001b[0;31mFileNotFoundError\u001b[0m                         Traceback (most recent call last)",
      "Cell \u001b[0;32mIn[20], line 9\u001b[0m\n\u001b[1;32m      7\u001b[0m         f\u001b[38;5;241m.\u001b[39mwrite(data)\n\u001b[1;32m      8\u001b[0m       \u001b[38;5;28;01mbreak\u001b[39;00m\n\u001b[0;32m----> 9\u001b[0m \u001b[43mvt_test\u001b[49m\u001b[43m(\u001b[49m\u001b[43m)\u001b[49m\n",
      "Cell \u001b[0;32mIn[20], line 6\u001b[0m, in \u001b[0;36mvt_test\u001b[0;34m()\u001b[0m\n\u001b[1;32m      4\u001b[0m \u001b[38;5;28mprint\u001b[39m(name)\n\u001b[1;32m      5\u001b[0m data \u001b[38;5;241m=\u001b[39m VIRTUAL_TEXTURES\u001b[38;5;241m.\u001b[39mfile_data(name)\n\u001b[0;32m----> 6\u001b[0m \u001b[38;5;28;01mwith\u001b[39;00m \u001b[38;5;28;43mopen\u001b[39;49m\u001b[43m(\u001b[49m\u001b[38;5;124;43mf\u001b[39;49m\u001b[38;5;124;43m\"\u001b[39;49m\u001b[38;5;124;43mtmp/\u001b[39;49m\u001b[38;5;132;43;01m{\u001b[39;49;00m\u001b[43mname\u001b[49m\u001b[38;5;132;43;01m}\u001b[39;49;00m\u001b[38;5;124;43m\"\u001b[39;49m\u001b[43m,\u001b[49m\u001b[43m \u001b[49m\u001b[38;5;124;43m\"\u001b[39;49m\u001b[38;5;124;43mwb\u001b[39;49m\u001b[38;5;124;43m\"\u001b[39;49m\u001b[43m)\u001b[49m \u001b[38;5;28;01mas\u001b[39;00m f:\n\u001b[1;32m      7\u001b[0m   f\u001b[38;5;241m.\u001b[39mwrite(data)\n\u001b[1;32m      8\u001b[0m \u001b[38;5;28;01mbreak\u001b[39;00m\n",
      "File \u001b[0;32m~/code/pybg3/.venv/lib/python3.11/site-packages/IPython/core/interactiveshell.py:324\u001b[0m, in \u001b[0;36m_modified_open\u001b[0;34m(file, *args, **kwargs)\u001b[0m\n\u001b[1;32m    317\u001b[0m \u001b[38;5;28;01mif\u001b[39;00m file \u001b[38;5;129;01min\u001b[39;00m {\u001b[38;5;241m0\u001b[39m, \u001b[38;5;241m1\u001b[39m, \u001b[38;5;241m2\u001b[39m}:\n\u001b[1;32m    318\u001b[0m     \u001b[38;5;28;01mraise\u001b[39;00m \u001b[38;5;167;01mValueError\u001b[39;00m(\n\u001b[1;32m    319\u001b[0m         \u001b[38;5;124mf\u001b[39m\u001b[38;5;124m\"\u001b[39m\u001b[38;5;124mIPython won\u001b[39m\u001b[38;5;124m'\u001b[39m\u001b[38;5;124mt let you open fd=\u001b[39m\u001b[38;5;132;01m{\u001b[39;00mfile\u001b[38;5;132;01m}\u001b[39;00m\u001b[38;5;124m by default \u001b[39m\u001b[38;5;124m\"\u001b[39m\n\u001b[1;32m    320\u001b[0m         \u001b[38;5;124m\"\u001b[39m\u001b[38;5;124mas it is likely to crash IPython. If you know what you are doing, \u001b[39m\u001b[38;5;124m\"\u001b[39m\n\u001b[1;32m    321\u001b[0m         \u001b[38;5;124m\"\u001b[39m\u001b[38;5;124myou can use builtins\u001b[39m\u001b[38;5;124m'\u001b[39m\u001b[38;5;124m open.\u001b[39m\u001b[38;5;124m\"\u001b[39m\n\u001b[1;32m    322\u001b[0m     )\n\u001b[0;32m--> 324\u001b[0m \u001b[38;5;28;01mreturn\u001b[39;00m \u001b[43mio_open\u001b[49m\u001b[43m(\u001b[49m\u001b[43mfile\u001b[49m\u001b[43m,\u001b[49m\u001b[43m \u001b[49m\u001b[38;5;241;43m*\u001b[39;49m\u001b[43margs\u001b[49m\u001b[43m,\u001b[49m\u001b[43m \u001b[49m\u001b[38;5;241;43m*\u001b[39;49m\u001b[38;5;241;43m*\u001b[39;49m\u001b[43mkwargs\u001b[49m\u001b[43m)\u001b[49m\n",
      "\u001b[0;31mFileNotFoundError\u001b[0m: [Errno 2] No such file or directory: 'tmp/Generated/Public/VirtualTextures/Albedo_Normal_Physical_3_33b4a4abc3fa10dbd2866bb430463254.gtp'"
     ]
    }
   ],
   "source": [
    "def vt_test():\n",
    "  for name in VIRTUAL_TEXTURES.files():\n",
    "    if VIRTUAL_TEXTURES.file_part(name) > 0:\n",
    "      print(name)\n",
    "      data = VIRTUAL_TEXTURES.file_data(name)\n",
    "      os.makedirs(f\"tmp/{os.path.dirname(name)}\", exist_ok = True)\n",
    "      with open(f\"tmp/{name}\", \"wb\") as f:\n",
    "        f.write(data)\n",
    "      break\n",
    "vt_test()"
   ]
  },
  {
   "cell_type": "code",
   "execution_count": null,
   "metadata": {},
   "outputs": [],
   "source": []
  }
 ],
 "metadata": {
  "kernelspec": {
   "display_name": ".venv",
   "language": "python",
   "name": "python3"
  },
  "language_info": {
   "codemirror_mode": {
    "name": "ipython",
    "version": 3
   },
   "file_extension": ".py",
   "mimetype": "text/x-python",
   "name": "python",
   "nbconvert_exporter": "python",
   "pygments_lexer": "ipython3",
   "version": "3.11.9"
  }
 },
 "nbformat": 4,
 "nbformat_minor": 2
}
